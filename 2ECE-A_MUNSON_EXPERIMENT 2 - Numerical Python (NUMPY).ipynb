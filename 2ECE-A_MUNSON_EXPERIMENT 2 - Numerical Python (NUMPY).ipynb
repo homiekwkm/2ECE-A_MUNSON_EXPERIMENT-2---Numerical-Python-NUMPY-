{
 "cells": [
  {
   "cell_type": "code",
   "execution_count": 5,
   "id": "16220155-7ccf-48cb-a6ef-35fee5836362",
   "metadata": {},
   "outputs": [],
   "source": [
    "import numpy as np"
   ]
  },
  {
   "cell_type": "markdown",
   "id": "c191895a-4ad6-4e68-9ef4-74341e4d0fd9",
   "metadata": {},
   "source": [
    "### Normalization Problem\n"
   ]
  },
  {
   "cell_type": "code",
   "execution_count": 11,
   "id": "6ea05f49-ddbd-48e3-b314-54255a5f81a8",
   "metadata": {},
   "outputs": [
    {
     "name": "stdout",
     "output_type": "stream",
     "text": [
      "[[-0.7310814  -1.44145137 -1.14992181 -1.24987028 -0.5707779 ]\n",
      " [-0.9462251  -1.4752446  -0.79512296 -1.29136809 -1.39735777]\n",
      " [-1.01161692 -1.39058528 -0.89562514 -0.59630747 -1.34609976]\n",
      " [-1.03521332 -1.4243251  -0.89841974 -0.58345742 -0.67022209]\n",
      " [-1.45949778 -0.76406951 -1.10618023 -0.70457559 -1.33221546]]\n"
     ]
    }
   ],
   "source": [
    "#Create a 5x5 array with random values\n",
    "X = np.random.random((5,5))\n",
    "\n",
    "#Get mean of X\n",
    "mean = X.mean()\n",
    "\n",
    "#Get standard deviation of X \n",
    "std = X.std()\n",
    "\n",
    "#Normalize X\n",
    "result = Z = X-mean/std\n",
    "\n",
    "#Print normalized array\n",
    "print(Z)\n",
    "\n",
    "#Save the result as 'X_normalized'\n",
    "np.save('X_normalized', result)"
   ]
  },
  {
   "cell_type": "markdown",
   "id": "25f9b48e-72e9-4663-8e26-b3c2d89c2360",
   "metadata": {},
   "source": [
    "### Divisible by 3 Problem"
   ]
  },
  {
   "cell_type": "code",
   "execution_count": 13,
   "id": "d11b3def-4c8d-4968-8bb1-acf34283dbea",
   "metadata": {},
   "outputs": [
    {
     "name": "stdout",
     "output_type": "stream",
     "text": [
      "[[False False  True False False  True False False  True False]\n",
      " [False  True False False  True False False  True False False]\n",
      " [ True False False  True False False  True False False  True]\n",
      " [False False  True False False  True False False  True False]\n",
      " [False  True False False  True False False  True False False]\n",
      " [ True False False  True False False  True False False  True]\n",
      " [False False  True False False  True False False  True False]\n",
      " [False  True False False  True False False  True False False]\n",
      " [ True False False  True False False  True False False  True]\n",
      " [False False  True False False  True False False  True False]]\n"
     ]
    }
   ],
   "source": [
    "#Create an array of positive integers from 1 to 100\n",
    "positive_integers = np.arange(1,101)\n",
    "\n",
    "#Create another array but of squares of positive integers from 1 to 100 by raising the first array to 2\n",
    "A = positive_integers**2\n",
    "\n",
    "#Reshape array A into 10 x 10 \n",
    "shape = A.reshape(10,10)\n",
    "\n",
    "#Define a function so that elements divisible by 3 may be determined; true for divisible elements and false for otherwise\n",
    "result = elements_divisible_by_3 = shape%3==0 \n",
    "\n",
    "#Print result\n",
    "print(elements_divisible_by_3)\n",
    "\n",
    "#Save the result as 'div_by_3.npy'\n",
    "np.save('div_by_3.npy', result)"
   ]
  }
 ],
 "metadata": {
  "kernelspec": {
   "display_name": "Python 3 (ipykernel)",
   "language": "python",
   "name": "python3"
  },
  "language_info": {
   "codemirror_mode": {
    "name": "ipython",
    "version": 3
   },
   "file_extension": ".py",
   "mimetype": "text/x-python",
   "name": "python",
   "nbconvert_exporter": "python",
   "pygments_lexer": "ipython3",
   "version": "3.12.4"
  }
 },
 "nbformat": 4,
 "nbformat_minor": 5
}
