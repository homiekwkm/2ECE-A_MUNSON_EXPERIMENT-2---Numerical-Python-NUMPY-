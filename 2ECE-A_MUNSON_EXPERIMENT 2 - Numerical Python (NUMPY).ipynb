{
 "cells": [
  {
   "cell_type": "code",
   "execution_count": 5,
   "id": "16220155-7ccf-48cb-a6ef-35fee5836362",
   "metadata": {},
   "outputs": [],
   "source": [
    "import numpy as np"
   ]
  },
  {
   "cell_type": "markdown",
   "id": "c191895a-4ad6-4e68-9ef4-74341e4d0fd9",
   "metadata": {},
   "source": [
    "### Normalization Problem\n"
   ]
  },
  {
   "cell_type": "code",
   "execution_count": 55,
   "id": "6ea05f49-ddbd-48e3-b314-54255a5f81a8",
   "metadata": {},
   "outputs": [
    {
     "name": "stdout",
     "output_type": "stream",
     "text": [
      " X array: \n",
      " [[0.23020064 0.21892663 0.76874111 0.75454106 0.58891901]\n",
      " [0.40531309 0.31865683 0.5441868  0.84373332 0.51016502]\n",
      " [0.03410143 0.30263887 0.6964076  0.14376412 0.78962065]\n",
      " [0.91534378 0.51787898 0.98764456 0.22125134 0.2698113 ]\n",
      " [0.24409239 0.93063702 0.49026228 0.2461465  0.91937279]]\n",
      "\n",
      " Z array (X Normalized): \n",
      " [[-1.5973309  -1.6086049  -1.05879043 -1.07299047 -1.23861252]\n",
      " [-1.42221844 -1.50887471 -1.28334473 -0.98379821 -1.31736651]\n",
      " [-1.7934301  -1.52489266 -1.13112393 -1.68376742 -1.03791088]\n",
      " [-0.91218775 -1.30965256 -0.83988697 -1.6062802  -1.55772023]\n",
      " [-1.58343914 -0.89689452 -1.33726926 -1.58138503 -0.90815875]]\n"
     ]
    }
   ],
   "source": [
    "#Create a 5x5 array with random values\n",
    "X = np.random.random((5,5))\n",
    "\n",
    "#Get mean of X\n",
    "mean = X.mean()\n",
    "\n",
    "#Get standard deviation of X \n",
    "std = X.std()\n",
    "\n",
    "#Normalize X\n",
    "result = Z = X-mean/std\n",
    "\n",
    "#Print normalized array\n",
    "print(\" X array: \\n\", X)\n",
    "print(\"\\n Z array (X Normalized): \\n\", result)\n",
    "\n",
    "#Save the result as 'X_normalized'\n",
    "np.save('X_normalized', result)"
   ]
  },
  {
   "cell_type": "markdown",
   "id": "25f9b48e-72e9-4663-8e26-b3c2d89c2360",
   "metadata": {},
   "source": [
    "### Divisible by 3 Problem"
   ]
  },
  {
   "cell_type": "code",
   "execution_count": 43,
   "id": "d11b3def-4c8d-4968-8bb1-acf34283dbea",
   "metadata": {},
   "outputs": [
    {
     "name": "stdout",
     "output_type": "stream",
     "text": [
      "Squares of the first 100 positive integers: \n",
      " [    1     4     9    16    25    36    49    64    81   100   121   144\n",
      "   169   196   225   256   289   324   361   400   441   484   529   576\n",
      "   625   676   729   784   841   900   961  1024  1089  1156  1225  1296\n",
      "  1369  1444  1521  1600  1681  1764  1849  1936  2025  2116  2209  2304\n",
      "  2401  2500  2601  2704  2809  2916  3025  3136  3249  3364  3481  3600\n",
      "  3721  3844  3969  4096  4225  4356  4489  4624  4761  4900  5041  5184\n",
      "  5329  5476  5625  5776  5929  6084  6241  6400  6561  6724  6889  7056\n",
      "  7225  7396  7569  7744  7921  8100  8281  8464  8649  8836  9025  9216\n",
      "  9409  9604  9801 10000]\n",
      "\n",
      "Elements divisible by 3: \n",
      " [   9   36   81  144  225  324  441  576  729  900 1089 1296 1521 1764\n",
      " 2025 2304 2601 2916 3249 3600 3969 4356 4761 5184 5625 6084 6561 7056\n",
      " 7569 8100 8649 9216 9801]\n"
     ]
    }
   ],
   "source": [
    "#Create an array of positive integers from 1 to 100\n",
    "positive_integers = np.arange(1,101)\n",
    "\n",
    "#Create another array but of squares of positive integers from 1 to 100 by raising the first array to 2\n",
    "A = positive_integers**2\n",
    "\n",
    "#Reshape array A into 10 x 10 \n",
    "shape = A.reshape(10,10)\n",
    "\n",
    "#Define a function so that elements divisible by 3 may be determined; true for divisible elements and false for otherwise\n",
    "result = elements_divisible_by_3 = shape[shape%3==0] \n",
    "\n",
    "#Print result\n",
    "\n",
    "print(\"Squares of the first 100 positive integers: \\n\", A) \n",
    "print(\"\\nElements divisible by 3: \\n\", result)\n",
    "\n",
    "#Save the result as 'div_by_3.npy'\n",
    "np.save('div_by_3.npy', result)"
   ]
  }
 ],
 "metadata": {
  "kernelspec": {
   "display_name": "Python 3 (ipykernel)",
   "language": "python",
   "name": "python3"
  },
  "language_info": {
   "codemirror_mode": {
    "name": "ipython",
    "version": 3
   },
   "file_extension": ".py",
   "mimetype": "text/x-python",
   "name": "python",
   "nbconvert_exporter": "python",
   "pygments_lexer": "ipython3",
   "version": "3.12.4"
  }
 },
 "nbformat": 4,
 "nbformat_minor": 5
}
