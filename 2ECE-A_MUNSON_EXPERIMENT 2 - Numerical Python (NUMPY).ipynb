{
 "cells": [
  {
   "cell_type": "code",
   "execution_count": 3,
   "id": "16220155-7ccf-48cb-a6ef-35fee5836362",
   "metadata": {},
   "outputs": [],
   "source": [
    "import numpy as np"
   ]
  },
  {
   "cell_type": "markdown",
   "id": "c191895a-4ad6-4e68-9ef4-74341e4d0fd9",
   "metadata": {},
   "source": [
    "# Normalization Problem\n"
   ]
  },
  {
   "cell_type": "markdown",
   "id": "b945ee7a-2524-4b3d-9341-4a6a602a470e",
   "metadata": {},
   "source": [
    "#### > For this problem, we are tasked to create a function that can normalize a variable X that is a random 5 x 5 ndarray, then save the result. To achieve this, we first focus on making the function that utilizes the normalization formula:"
   ]
  },
  {
   "cell_type": "code",
   "execution_count": 22,
   "id": "6ea05f49-ddbd-48e3-b314-54255a5f81a8",
   "metadata": {},
   "outputs": [],
   "source": [
    "#Create a 5x5 array with random values\n",
    "X = np.random.random((5,5))\n",
    "\n",
    "#Get mean of X\n",
    "mean = X.mean()\n",
    "\n",
    "#Get standard deviation of X \n",
    "std = X.std()\n",
    "\n",
    "#Normalize X\n",
    "Z = X-mean/std"
   ]
  },
  {
   "cell_type": "markdown",
   "id": "ed83f1bc-4407-4968-827c-7b945c2ec76c",
   "metadata": {},
   "source": [
    "#### > That covers the function itself, now we are able to print the result, as well as save the result. The combined code should be:"
   ]
  },
  {
   "cell_type": "code",
   "execution_count": 95,
   "id": "9e2cd9cf-9952-4c5d-88a2-a9bcbff0e721",
   "metadata": {},
   "outputs": [
    {
     "name": "stdout",
     "output_type": "stream",
     "text": [
      " X array: \n",
      " [[0.05630314 0.53701391 0.19462192 0.50539116 0.18725475]\n",
      " [0.26399482 0.10990701 0.37711777 0.81868357 0.74024503]\n",
      " [0.09967104 0.16465935 0.35796359 0.43523037 0.09519032]\n",
      " [0.0411547  0.76609523 0.77378704 0.86776541 0.6963337 ]\n",
      " [0.53251056 0.53876079 0.52803549 0.24078666 0.15875107]]\n",
      "\n",
      " Z array (X Normalized): \n",
      " [[-1.4834318  -1.00272104 -1.34511303 -1.03434379 -1.35248019]\n",
      " [-1.27574012 -1.42982793 -1.16261718 -0.72105138 -0.79948991]\n",
      " [-1.44006391 -1.37507559 -1.18177136 -1.10450458 -1.44454463]\n",
      " [-1.49858025 -0.77363972 -0.76594791 -0.67196953 -0.84340124]\n",
      " [-1.00722439 -1.00097416 -1.01169945 -1.29894829 -1.38098388]]\n"
     ]
    }
   ],
   "source": [
    "X = np.random.random((5,5))\n",
    "\n",
    "mean = X.mean()\n",
    "\n",
    "std = X.std()\n",
    "\n",
    "Z = X-mean/std\n",
    "\n",
    "#Equate Z to result\n",
    "result = Z\n",
    "\n",
    "#Print result; both X and Z arrays are printed for reference\n",
    "print(\" X array: \\n\", X)\n",
    "print(\"\\n Z array (X Normalized): \\n\", result)\n",
    "\n",
    "#Save the result as 'X_normalized'\n",
    "np.save('X_normalized', result)"
   ]
  },
  {
   "cell_type": "markdown",
   "id": "0246c026-de57-4624-a6c3-6c3ae81dd3c7",
   "metadata": {},
   "source": [
    "#### > Code should result in such an output that displays two 5 x 5 arrays, X array and Z array (X Normalized), in an arranged manner. "
   ]
  },
  {
   "cell_type": "markdown",
   "id": "25f9b48e-72e9-4663-8e26-b3c2d89c2360",
   "metadata": {},
   "source": [
    "# Divisible by 3 Problem"
   ]
  },
  {
   "cell_type": "markdown",
   "id": "9fe6748c-3970-45ed-9d28-b5e76bd3574d",
   "metadata": {},
   "source": [
    "#### > In this problem, a 10 x 10 ndarray of squares of the first 100 positive integers is to be created; then with this ndarray, a function is required to determine all the elements within it that are divisible by 3. Once the result is achieved, it should be saved. We can accomplish this by first creating the function:"
   ]
  },
  {
   "cell_type": "code",
   "execution_count": 46,
   "id": "d11b3def-4c8d-4968-8bb1-acf34283dbea",
   "metadata": {},
   "outputs": [],
   "source": [
    "#Create an array of positive integers from 1 to 100\n",
    "positive_integers = np.arange(1,101)\n",
    "\n",
    "#Create another array but of squares of positive integers from 1 to 100 by raising the first array to 2\n",
    "A = positive_integers**2\n",
    "\n",
    "#Reshape array A into 10 x 10 array\n",
    "shape = A.reshape(10,10)\n",
    "\n",
    "#Define a function so that elements divisible by 3 may be determined; true for divisible elements and false for otherwise\n",
    "elements_divisible_by_3 = shape[shape%3==0] "
   ]
  },
  {
   "cell_type": "markdown",
   "id": "9cda1206-daa5-4df4-bea8-5d55ca0232b2",
   "metadata": {},
   "source": [
    "#### > Having made the function that divides and analyzes the array, printing and saving of result is now possible:\n"
   ]
  },
  {
   "cell_type": "code",
   "execution_count": 97,
   "id": "ff18fb01-4079-4c7c-891c-07d315e172c2",
   "metadata": {},
   "outputs": [
    {
     "name": "stdout",
     "output_type": "stream",
     "text": [
      "Squares of the first 100 positive integers: \n",
      " [    1     4     9    16    25    36    49    64    81   100   121   144\n",
      "   169   196   225   256   289   324   361   400   441   484   529   576\n",
      "   625   676   729   784   841   900   961  1024  1089  1156  1225  1296\n",
      "  1369  1444  1521  1600  1681  1764  1849  1936  2025  2116  2209  2304\n",
      "  2401  2500  2601  2704  2809  2916  3025  3136  3249  3364  3481  3600\n",
      "  3721  3844  3969  4096  4225  4356  4489  4624  4761  4900  5041  5184\n",
      "  5329  5476  5625  5776  5929  6084  6241  6400  6561  6724  6889  7056\n",
      "  7225  7396  7569  7744  7921  8100  8281  8464  8649  8836  9025  9216\n",
      "  9409  9604  9801 10000]\n",
      "\n",
      "Elements divisible by 3: \n",
      " [   9   36   81  144  225  324  441  576  729  900 1089 1296 1521 1764\n",
      " 2025 2304 2601 2916 3249 3600 3969 4356 4761 5184 5625 6084 6561 7056\n",
      " 7569 8100 8649 9216 9801]\n"
     ]
    }
   ],
   "source": [
    "positive_integers = np.arange(1,101)\n",
    "\n",
    "A = positive_integers**2\n",
    "\n",
    "shape = A.reshape(10,10)\n",
    "\n",
    "elements_divisible_by_3 = shape[shape%3==0] \n",
    "\n",
    "#Equate elements_divisible_by_3 to result\n",
    "result = elements_divisible_by_3 \n",
    "\n",
    "#Print result; squares of the first 100 positive integers before divided and analyzed is printed to compare to the found elements that are divisible by 3 \n",
    "print(\"Squares of the first 100 positive integers: \\n\", A) \n",
    "print(\"\\nElements divisible by 3: \\n\", result)\n",
    "\n",
    "#Save the result as 'div_by_3.npy'\n",
    "np.save('div_by_3.npy', result)"
   ]
  },
  {
   "cell_type": "markdown",
   "id": "f47c13ee-007d-421f-b95f-496ca062b23c",
   "metadata": {},
   "source": [
    "#### > The output from the code should first display the squares of the first 100 positive integers arranged in a 10 x 10 array. The proceeding output should then be elements divisible by 3 in a 10 x 10 array."
   ]
  }
 ],
 "metadata": {
  "kernelspec": {
   "display_name": "Python 3 (ipykernel)",
   "language": "python",
   "name": "python3"
  },
  "language_info": {
   "codemirror_mode": {
    "name": "ipython",
    "version": 3
   },
   "file_extension": ".py",
   "mimetype": "text/x-python",
   "name": "python",
   "nbconvert_exporter": "python",
   "pygments_lexer": "ipython3",
   "version": "3.12.4"
  }
 },
 "nbformat": 4,
 "nbformat_minor": 5
}
